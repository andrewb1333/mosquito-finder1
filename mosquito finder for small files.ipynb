{
 "cells": [
  {
   "cell_type": "code",
   "execution_count": 70,
   "id": "61ae59a4",
   "metadata": {},
   "outputs": [],
   "source": [
    "'''imports'''\n",
    "\n",
    "'''basic imports'''\n",
    "import pandas as pd\n",
    "import numpy as np\n",
    "import matplotlib.pyplot as plt\n",
    "'''import geopandas as gp'''\n",
    "import scipy\n",
    "import sparse\n",
    "from scipy.sparse import csr_matrix\n",
    "\n",
    "'''dataframe handling'''\n",
    "'''import pandas as pd'''\n",
    "import dask.dataframe as dd\n",
    "import dask.array as da\n",
    "import dask.bag as db\n",
    "import dask_ml.cluster\n",
    "import dask_ml.preprocessing\n",
    "from dask_ml.preprocessing import OneHotEncoder\n",
    "import joblib\n",
    "\n",
    "import datetime as date\n",
    "\n",
    "'''learning'''\n",
    "import sklearn\n",
    "from sklearn.multioutput import MultiOutputClassifier\n",
    "from sklearn.model_selection import train_test_split\n",
    "from sklearn.metrics import multilabel_confusion_matrix, ConfusionMatrixDisplay\n",
    "from sklearn.pipeline import make_pipeline\n",
    "from sklearn.preprocessing import StandardScaler\n",
    "from sklearn.cluster import KMeans"
   ]
  },
  {
   "cell_type": "code",
   "execution_count": 71,
   "id": "b85a3482",
   "metadata": {},
   "outputs": [],
   "source": [
    "'''Lists'''\n",
    "\n",
    "'''Genera, species library'''\n",
    "aedes = ['dorsalis', 'melanimon', 'nigromaculis', 'sierrensis', 'squamiger', 'vexans', 'washinoi']\n",
    "anopheles = ['franciscanus', 'freeborni', 'occidentalis', 'punctipennis']\n",
    "culex = ['apicalis', 'erythrothorax', 'pipiens', 'restuans', 'stigmatosoma', 'tarsalis']\n",
    "culiseta = ['incidens', 'inornata', 'particeps']\n",
    "genera = [aedes, anopheles, culex, culiseta]\n",
    "\n",
    "'''CSV / dataframe column names'''\n",
    "allcols=['agency_collection_num','collection_id','code','longitude','latitude','collection_date','aedes_dorsalis_males',\n",
    "         'aedes_dorsalis_females-mixed','aedes_melanimon_males','aedes_melanimon_females-mixed','aedes_nigromaculis_males',\n",
    "         'aedes_nigromaculis_females-mixed','aedes_sierrensis_males','aedes_sierrensis_females-mixed',\n",
    "         'aedes_squamiger_males','aedes_squamiger_females-mixed','aedes_vexans_males','aedes_vexans_females-mixed',\n",
    "         'aedes_washinoi_males','aedes_washinoi_females-mixed','anopheles_franciscanus_males',\n",
    "         'anopheles_franciscanus_females-mixed','anopheles_freeborni_males','anopheles_freeborni_females-mixed',\n",
    "         'anopheles_occidentalis_males','anopheles_occidentalis_females-mixed','anopheles_punctipennis_males', \n",
    "         'anopheles_punctipennis_females-mixed','culex_apicalis_males','culex_apicalis_females-mixed',\n",
    "         'culex_erythrothorax_males','culex_erythrothorax_females-mixed','culex_pipiens_males',\n",
    "         'culex_pipiens_females-mixed','culex_restuans_males','culex_restuans_females-mixed','culex_stigmatosoma_males',\n",
    "         'culex_stigmatosoma_females-mixed','culex_tarsalis_males','culex_tarsalis_females-mixed','culiseta_incidens_males',\n",
    "         'culiseta_incidens_females-mixed','culiseta_inornata_males','culiseta_inornata_females-mixed',\n",
    "         'culiseta_particeps_males','culiseta_particeps_females-mixed']\n",
    "\n",
    "rawabundcols = ['aedes_dorsalis_males','aedes_dorsalis_females-mixed','aedes_melanimon_males','aedes_melanimon_females-mixed',\n",
    "             'aedes_nigromaculis_males','aedes_nigromaculis_females-mixed','aedes_sierrensis_males',\n",
    "             'aedes_sierrensis_females-mixed','aedes_squamiger_males','aedes_squamiger_females-mixed','aedes_vexans_males',\n",
    "             'aedes_vexans_females-mixed','aedes_washinoi_males','aedes_washinoi_females-mixed','anopheles_franciscanus_males',\n",
    "             'anopheles_franciscanus_females-mixed','anopheles_freeborni_males','anopheles_freeborni_females-mixed',\n",
    "             'anopheles_occidentalis_males','anopheles_occidentalis_females-mixed','anopheles_punctipennis_males',\n",
    "             'anopheles_punctipennis_females-mixed','culex_apicalis_males','culex_apicalis_females-mixed',\n",
    "             'culex_erythrothorax_males','culex_erythrothorax_females-mixed','culex_pipiens_males',\n",
    "             'culex_pipiens_females-mixed','culex_restuans_males','culex_restuans_females-mixed','culex_stigmatosoma_males',\n",
    "             'culex_stigmatosoma_females-mixed','culex_tarsalis_males','culex_tarsalis_females-mixed','culiseta_incidens_males',\n",
    "             'culiseta_incidens_females-mixed','culiseta_inornata_males','culiseta_inornata_females-mixed',\n",
    "             'culiseta_particeps_males','culiseta_particeps_females-mixed']\n",
    "\n",
    "'''column names of findata'''\n",
    "fincols = ['agency_collection_num','collection_id','code','longitude','latitude','collection_date','dorsalis','melanimon',\n",
    "           'nigromaculis','sierrensis','squamiger','vexans','washinoi','franciscanus','freeborni','occidentalis','punctipennis',\n",
    "           'apicalis','erythrothorax','pipiens','restuans','stigmatosoma','tarsalis','incidens','inornata','particeps']"
   ]
  },
  {
   "cell_type": "code",
   "execution_count": 89,
   "id": "30ee578e",
   "metadata": {},
   "outputs": [],
   "source": [
    "'''data management'''\n",
    "'''findata is the dataframe containing all processed abundance data with supplemental info needed later'''\n",
    "'''testdata is the processed abundance dataframe to be used in the clustering'''\n",
    "\n",
    "\n",
    "supportcols = ['collection_id','code','site_name','longitude','latitude','collection_date', 'total']\n",
    "\n",
    "findata = dd.read_csv (r'C:\\Users\\AndrewBurns\\documents\\smallabundance1622.csv', usecols = supportcols, parse_dates=['collection_date'])\n",
    "\n",
    "\n",
    "proabundcols = ['dorsalis', 'melanimon', 'nigromaculis', 'sierrensis', 'squamiger','vexans', 'washinoi', 'franciscanus', \n",
    "                'freeborni', 'occidentalis', 'punctipennis', 'apicalis', 'erythrothorax','pipiens','restuans', 'stigmatosoma', \n",
    "                'tarsalis', 'incidens', 'inornata', 'particeps']\n",
    "\n",
    "\n",
    "abunddata = dd.read_csv (r'C:\\Users\\AndrewBurns\\documents\\smallabundance1622.csv', usecols = rawabundcols,dtype = {'aedes_dorsalis_males':np.int8,'aedes_dorsalis_females-mixed':np.int8,'aedes_melanimon_males':np.int8,'aedes_melanimon_females-mixed':np.int8,\n",
    "             'aedes_nigromaculis_males':np.int8,'aedes_nigromaculis_females-mixed':np.int8,'aedes_sierrensis_males':np.int8,\n",
    "             'aedes_sierrensis_females-mixed':np.int8,'aedes_squamiger_males':np.int8,'aedes_squamiger_females-mixed':np.int8,'aedes_vexans_males':np.int8,\n",
    "             'aedes_vexans_females-mixed':np.int8,'aedes_washinoi_males':np.int8,'aedes_washinoi_females-mixed':np.int8,'anopheles_franciscanus_males':np.int8,\n",
    "             'anopheles_franciscanus_females-mixed':np.int8,'anopheles_freeborni_males':np.int8,'anopheles_freeborni_females-mixed':np.int8,\n",
    "             'anopheles_occidentalis_males':np.int8,'anopheles_occidentalis_females-mixed':np.int8,'anopheles_punctipennis_males':np.int8,\n",
    "             'anopheles_punctipennis_females-mixed':np.int8,'culex_apicalis_males':np.int8,'culex_apicalis_females-mixed':np.int8,\n",
    "             'culex_erythrothorax_males':np.int8,'culex_erythrothorax_females-mixed':np.int8,'culex_pipiens_males':np.int8,\n",
    "             'culex_pipiens_females-mixed':np.int8,'culex_restuans_males':np.int8,'culex_restuans_females-mixed':np.int8,'culex_stigmatosoma_males':np.int8,\n",
    "             'culex_stigmatosoma_females-mixed':np.int8,'culex_tarsalis_males':np.int8,'culex_tarsalis_females-mixed':np.int8,'culiseta_incidens_males':np.int8,\n",
    "             'culiseta_incidens_females-mixed':np.int8,'culiseta_inornata_males':np.int8,'culiseta_inornata_females-mixed':np.int8,\n",
    "             'culiseta_particeps_males':np.int8,'culiseta_particeps_females-mixed':np.int8}, low_memory=False)\n",
    "\n",
    "testdata = dd.read_csv (r'C:\\Users\\AndrewBurns\\documents\\smallabundance1622.csv', usecols = ['total'], dtype = {'collection_id':np.int8})\n",
    "\n",
    "for x in proabundcols: \n",
    "    sera = abunddata.iloc[:,2*proabundcols.index(x)]\n",
    "    serb = abunddata.iloc[:,(2*proabundcols.index(x))+1]\n",
    "    serret = sera.add(serb, fill_value = 0)\n",
    "    findata[x] = serret \n",
    "    testdata[x] = serret\n",
    "\n"
   ]
  },
  {
   "cell_type": "code",
   "execution_count": 94,
   "id": "330fb377",
   "metadata": {},
   "outputs": [
    {
     "data": {
      "text/plain": [
       "<AxesSubplot:xlabel='collection_id', ylabel='total'>"
      ]
     },
     "execution_count": 94,
     "metadata": {},
     "output_type": "execute_result"
    },
    {
     "data": {
      "image/png": "[encoded data removed]",
      "text/plain": [
       "<Figure size 432x288 with 2 Axes>"
      ]
     },
     "metadata": {
      "needs_background": "light"
     },
     "output_type": "display_data"
    }
   ],
   "source": [
    "'''clustering and display'''\n",
    "\n",
    "holder = testdata.compute()\n",
    "kmeans = sklearn.cluster.KMeans(n_clusters=9)\n",
    "label = kmeans.fit(holder)\n",
    "holder['lab'] = label.labels_\n",
    "holder['collection_id'] = findata['collection_id'].compute()\n",
    "holder.plot.scatter('collection_id','total', c='lab', colormap='gist_rainbow')"
   ]
  },
  {
   "cell_type": "code",
   "execution_count": 98,
   "id": "0282519d",
   "metadata": {},
   "outputs": [
    {
     "name": "stderr",
     "output_type": "stream",
     "text": [
      "C:\\Users\\AndrewBurns\\anaconda3\\lib\\site-packages\\sklearn\\cluster\\_kmeans.py:1036: UserWarning: KMeans is known to have a memory leak on Windows with MKL, when there are less chunks than available threads. You can avoid it by setting the environment variable OMP_NUM_THREADS=10.\n",
      "  warnings.warn(\n"
     ]
    },
    {
     "data": {
      "image/png": "[encoded data removed]",
      "text/plain": [
       "<Figure size 720x720 with 1 Axes>"
      ]
     },
     "metadata": {
      "needs_background": "light"
     },
     "output_type": "display_data"
    }
   ],
   "source": [
    "'''numcluster finder'''\n",
    "holder = testdata.compute()\n",
    "kmeans = sklearn.cluster.KMeans(n_clusters=9)\n",
    "label = kmeans.fit(holder)\n",
    "wcss = []\n",
    "for i in range(1,11):\n",
    "   model = KMeans(n_clusters = i, init = \"k-means++\")\n",
    "   model.fit(holder)\n",
    "   wcss.append(model.inertia_)\n",
    "plt.figure(figsize=(10,10))\n",
    "plt.plot(range(1,11), wcss)\n",
    "plt.xlabel('Number of clusters')\n",
    "plt.ylabel('WCSS')\n",
    "plt.show()"
   ]
  },
  {
   "cell_type": "code",
   "execution_count": null,
   "id": "f97ecd87",
   "metadata": {},
   "outputs": [],
   "source": []
  }
 ],
 "metadata": {
  "kernelspec": {
   "display_name": "Python 3 (ipykernel)",
   "language": "python",
   "name": "python3"
  },
  "language_info": {
   "codemirror_mode": {
    "name": "ipython",
    "version": 3
   },
   "file_extension": ".py",
   "mimetype": "text/x-python",
   "name": "python",
   "nbconvert_exporter": "python",
   "pygments_lexer": "ipython3",
   "version": "3.9.12"
  }
 },
 "nbformat": 4,
 "nbformat_minor": 5
}
