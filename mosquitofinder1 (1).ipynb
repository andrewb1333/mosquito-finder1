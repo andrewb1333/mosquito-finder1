{
 "cells": [
  {
   "cell_type": "code",
   "execution_count": 1,
   "id": "daffc48d",
   "metadata": {},
   "outputs": [],
   "source": [
    "'''imports'''\n",
    "\n",
    "import numpy as np\n",
    "import matplotlib.pyplot as plt\n",
    "import pandas as pd\n",
    "'''import geopandas as gp'''\n",
    "\n",
    "import dask.dataframe as dd\n",
    "import dask.array as da\n",
    "import dask.bag as db\n",
    "\n",
    "import datetime as date\n",
    "import dateparser as dp\n",
    "\n",
    "from sklearn.multioutput import MultiOutputClassifier\n",
    "from sklearn.svm import LinearSVC\n",
    "from sklearn.model_selection import train_test_split\n",
    "from sklearn.metrics import multilabel_confusion_matrix, ConfusionMatrixDisplay"
   ]
  },
  {
   "cell_type": "code",
   "execution_count": null,
   "id": "522d38ce",
   "metadata": {},
   "outputs": [],
   "source": [
    "'''Genera lists'''\n",
    "aedes = ['dorsalis', 'melanimon', 'nigromaculis', 'sierrensis', 'squamiger', 'vexans', 'washinoi']\n",
    "anopheles = ['franciscanus', 'freeborni', 'occidentalis', 'punctipennis']\n",
    "culex = ['apicalis', 'erythrothorax', 'pipiens', 'restuans', 'stigmatosoma', 'tarsalis']\n",
    "culiseta = ['incidens', 'inornata', 'particeps']"
   ]
  },
  {
   "cell_type": "code",
   "execution_count": 5,
   "id": "982ce648",
   "metadata": {
    "scrolled": false
   },
   "outputs": [
    {
     "data": {
      "text/plain": [
       "Dask Series Structure:\n",
       "npartitions=1\n",
       "    object\n",
       "       ...\n",
       "Name: collection_date, dtype: object\n",
       "Dask Name: getitem, 2 tasks"
      ]
     },
     "execution_count": 5,
     "metadata": {},
     "output_type": "execute_result"
    }
   ],
   "source": [
    "'''data management'''\n",
    "allcols=['agency_collection_num','collection_id','code','longitude','latitude','collection_date','aedes_dorsalis_males',\n",
    "         'aedes_dorsalis_females-mixed','aedes_melanimon_males','aedes_melanimon_females-mixed','aedes_nigromaculis_males',\n",
    "         'aedes_nigromaculis_females-mixed','aedes_sierrensis_males','aedes_sierrensis_females-mixed',\n",
    "         'aedes_squamiger_males','aedes_squamiger_females-mixed','aedes_vexans_males','aedes_vexans_females-mixed',\n",
    "         'aedes_washinoi_males','aedes_washinoi_females-mixed','anopheles_franciscanus_males',\n",
    "         'anopheles_franciscanus_females-mixed','anopheles_freeborni_males','anopheles_freeborni_females-mixed',\n",
    "         'anopheles_occidentalis_males','anopheles_occidentalis_females-mixed','anopheles_punctipennis_males', \n",
    "         'anopheles_punctipennis_females-mixed','culex_apicalis_males','culex_apicalis_females-mixed',\n",
    "         'culex_erythrothorax_males','culex_erythrothorax_females-mixed','culex_pipiens_males',\n",
    "         'culex_pipiens_females-mixed','culex_restuans_males','culex_restuans_females-mixed','culex_stigmatosoma_males',\n",
    "         'culex_stigmatosoma_females-mixed','culex_tarsalis_males','culex_tarsalis_females-mixed','culiseta_incidens_males',\n",
    "         'culiseta_incidens_females-mixed','culiseta_inornata_males','culiseta_inornata_females-mixed',\n",
    "         'culiseta_particeps_males','culiseta_particeps_females-mixed']\n",
    "\n",
    "rawabundcols = ['aedes_dorsalis_males','aedes_dorsalis_females-mixed','aedes_melanimon_males','aedes_melanimon_females-mixed',\n",
    "             'aedes_nigromaculis_males','aedes_nigromaculis_females-mixed','aedes_sierrensis_males',\n",
    "             'aedes_sierrensis_females-mixed','aedes_squamiger_males','aedes_squamiger_females-mixed','aedes_vexans_males',\n",
    "             'aedes_vexans_females-mixed','aedes_washinoi_males','aedes_washinoi_females-mixed','anopheles_franciscanus_males',\n",
    "             'anopheles_franciscanus_females-mixed','anopheles_freeborni_males','anopheles_freeborni_females-mixed',\n",
    "             'anopheles_occidentalis_males','anopheles_occidentalis_females-mixed','anopheles_punctipennis_males',\n",
    "             'anopheles_punctipennis_females-mixed','culex_apicalis_males','culex_apicalis_females-mixed',\n",
    "             'culex_erythrothorax_males','culex_erythrothorax_females-mixed','culex_pipiens_males',\n",
    "             'culex_pipiens_females-mixed','culex_restuans_males','culex_restuans_females-mixed','culex_stigmatosoma_males',\n",
    "             'culex_stigmatosoma_females-mixed','culex_tarsalis_males','culex_tarsalis_females-mixed','culiseta_incidens_males',\n",
    "             'culiseta_incidens_females-mixed','culiseta_inornata_males','culiseta_inornata_females-mixed',\n",
    "             'culiseta_particeps_males','culiseta_particeps_females-mixed']\n",
    "\n",
    "supportcols = ['agency_collection_num','collection_id','code','longitude','latitude','collection_date']\n",
    "\n",
    "findata = dd.read_csv (r'C:\\Users\\AndrewBurns\\Documents\\abundance1622.csv', usecols = supportcols)\n",
    "datedata = dd.read_csv(r'C:\\Users\\AndrewBurns\\Documents\\abundance1622.csv', usecols =['collection_date']).squeeze()\n",
    "\n",
    "\n",
    "proabundcols = ['dorsalis', 'melanimon', 'nigromaculis', 'sierrensis', 'squamiger','vexans', 'washinoi', 'franciscanus', \n",
    "                'freeborni', 'occidentalis', 'punctipennis', 'apicalis', 'erythrothorax','pipiens','restuans', 'stigmatosoma', \n",
    "                'tarsalis', 'incidens', 'inornata', 'particeps']\n",
    "\n",
    "\n",
    "abunddata = dd.read_csv (r'C:\\Users\\AndrewBurns\\Documents\\abundance1622.csv', usecols = rawabundcols)\n",
    "\n",
    "for x in proabundcols: \n",
    "    sera = abunddata.iloc[:,2*proabundcols.index(x)]\n",
    "    serb = abunddata.iloc[:,(2*proabundcols.index(x))+1]\n",
    "    serret = sera.add(serb, fill_value = 0)\n",
    "    findata[x] = serret \n",
    "\n",
    "\n",
    "fincols = ['agency_collection_num','collection_id','code','longitude','latitude','collection_date','dorsalis','melanimon',\n",
    "           'nigromaculis','sierrensis','squamiger','vexans','washinoi','franciscanus','freeborni','occidentalis','punctipennis',\n",
    "           'apicalis','erythrothorax','pipiens','restuans','stigmatosoma','tarsalis','incidens','inornata','particeps']\n"
   ]
  },
  {
   "cell_type": "code",
   "execution_count": null,
   "id": "d821d7ff",
   "metadata": {},
   "outputs": [],
   "source": []
  },
  {
   "cell_type": "code",
   "execution_count": null,
   "id": "d07bc23b",
   "metadata": {},
   "outputs": [],
   "source": []
  }
 ],
 "metadata": {
  "kernelspec": {
   "display_name": "Python 3 (ipykernel)",
   "language": "python",
   "name": "python3"
  },
  "language_info": {
   "codemirror_mode": {
    "name": "ipython",
    "version": 3
   },
   "file_extension": ".py",
   "mimetype": "text/x-python",
   "name": "python",
   "nbconvert_exporter": "python",
   "pygments_lexer": "ipython3",
   "version": "3.9.12"
  }
 },
 "nbformat": 4,
 "nbformat_minor": 5
}
